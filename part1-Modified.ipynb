{
 "cells": [
  {
   "cell_type": "markdown",
   "id": "05a2d7b9",
   "metadata": {},
   "source": [
    "# Final Project\n",
    "## Part 1: Identifying popular news sources\n",
    "Author: Malika Parkhomchuk\n",
    "\n",
    "### Tasks:\n",
    "1. Gather recent tweets according to query words\n",
    "2. Gather expanded urls from tweets\n",
    "4. Create a data frame of all the gathered links and their source domains\n",
    "5. Get the top 30 sources by the frequency of occurrence"
   ]
  },
  {
   "cell_type": "markdown",
   "id": "49e0fb10",
   "metadata": {},
   "source": [
    "### Task 1: Data Collection (Gather Tweets)\n",
    "Setting up Twitter API Client"
   ]
  },
  {
   "cell_type": "code",
   "execution_count": 28,
   "id": "7c0899cc",
   "metadata": {},
   "outputs": [],
   "source": [
    "import tweepy\n",
    "import re\n",
    "import requests"
   ]
  },
  {
   "cell_type": "code",
   "execution_count": 29,
   "id": "fe96c027",
   "metadata": {},
   "outputs": [],
   "source": [
    "my_bearer_token='AAAAAAAAAAAAAAAAAAAAAC2JWQEAAAAABPjxkEAyiEcohSqSNsXtIVpQqpM%3DHbSEkLilR2VJyGb1bmwhA36RWPqAQtE2bm0giycJoZe1uam9gF'\n",
    "my_consumer_key='WNXvk96KSIQczZ3Anob4pz5xH'\n",
    "my_consumer_secret='iCjMFDcFyDSlqEnwqmlRhaeE4NTziqbAJ8sAZJl3U7DuQSfa7F'\n",
    "my_access_token='1461340832955609092-vgofZmqR7PMCS9lTXqpDqvip32ZKX8'\n",
    "my_access_token_secret='vbTLysReQcpdxjegwvnA7xjwbuUbmVyjH3QhgRbhJGPH3'"
   ]
  },
  {
   "cell_type": "code",
   "execution_count": 30,
   "id": "b721378c",
   "metadata": {},
   "outputs": [],
   "source": [
    "client = tweepy.Client(bearer_token=my_bearer_token,\n",
    "                       consumer_key=my_consumer_key, \n",
    "                       consumer_secret=my_consumer_secret, \n",
    "                       access_token=my_access_token, \n",
    "                       access_token_secret=my_access_token_secret\n",
    "                      )"
   ]
  },
  {
   "cell_type": "markdown",
   "id": "84631339",
   "metadata": {},
   "source": [
    "These are the guery words in russian and kazakh languages that I came up with by using Google Trends\n",
    "for searching relevant tweets"
   ]
  },
  {
   "cell_type": "code",
   "execution_count": 31,
   "id": "47750e18",
   "metadata": {},
   "outputs": [],
   "source": [
    "queries = ['назарбаев', 'токаев', 'казахстан','аблязов', 'демократия', 'билік','саясаткер',\n",
    "           'Жаңаөзен', 'Әблязов', 'коррупция', 'чиновник', 'Китай', 'коронавирус',\n",
    "          'вакцина', 'вакцинация', 'минздрав', 'суицид', 'Нур Отан', 'партия', 'акжол', 'орыс', 'русофобия', 'ұлтшылдық',\n",
    "           'Жанаозен', 'Қазақстан', 'ЕНПФ', 'парақорлық', 'белсенділер', 'активист', 'қудалау', 'сайлау', 'наразылық',\n",
    "           'қарсылық', 'Қытай', 'Ресей', 'зейнетақы', 'қаржы', 'жарылыс', 'ынтымақтастық']"
   ]
  },
  {
   "cell_type": "markdown",
   "id": "13d57e41",
   "metadata": {},
   "source": [
    "Merging query words together in order to find all of the relevant tweets"
   ]
  },
  {
   "cell_type": "code",
   "execution_count": 32,
   "id": "f7a654ea",
   "metadata": {},
   "outputs": [],
   "source": [
    "query_string = ''\n",
    "\n",
    "for i in range(len(queries) - 1):\n",
    "    query_string +=  queries[i] + \" OR \"\n",
    "    \n",
    "query_string += queries[-1] + ' -is:retweet has:links'"
   ]
  },
  {
   "cell_type": "code",
   "execution_count": 33,
   "id": "8c979c88",
   "metadata": {},
   "outputs": [
    {
     "data": {
      "text/plain": [
       "'назарбаев OR токаев OR казахстан OR аблязов OR демократия OR билік OR саясаткер OR Жаңаөзен OR Әблязов OR коррупция OR чиновник OR Китай OR коронавирус OR вакцина OR вакцинация OR минздрав OR суицид OR Нур Отан OR партия OR акжол OR орыс OR русофобия OR ұлтшылдық OR Жанаозен OR Қазақстан OR ЕНПФ OR парақорлық OR белсенділер OR активист OR қудалау OR сайлау OR наразылық OR қарсылық OR Қытай OR Ресей OR зейнетақы OR қаржы OR жарылыс OR ынтымақтастық -is:retweet has:links'"
      ]
     },
     "execution_count": 33,
     "metadata": {},
     "output_type": "execute_result"
    }
   ],
   "source": [
    "query_string"
   ]
  },
  {
   "cell_type": "markdown",
   "id": "a75316ea",
   "metadata": {},
   "source": [
    "Getting the first page of tweets according to our query string"
   ]
  },
  {
   "cell_type": "code",
   "execution_count": 34,
   "id": "19a8fa55",
   "metadata": {},
   "outputs": [],
   "source": [
    "page1 = client.search_recent_tweets( \n",
    "                              query=query_string,\n",
    "                              tweet_fields=['context_annotations', \n",
    "                                            'created_at',\n",
    "                                            'entities',\n",
    "                                            'public_metrics',\n",
    "                                           ], \n",
    "                              expansions='author_id',\n",
    "                              user_fields=['username', 'description', 'name', \n",
    "                                           'location', 'created_at', \n",
    "                                           'public_metrics', 'verified'],\n",
    "                              max_results=100)"
   ]
  },
  {
   "cell_type": "code",
   "execution_count": 35,
   "id": "736449fe",
   "metadata": {},
   "outputs": [],
   "source": [
    "def prepareData(page):\n",
    "    \"\"\"Convert the objects into JSON-serializable stuff that we can easily store.\n",
    "    To understand the function, we need to know the structure of the parameter page.\n",
    "    \"\"\"\n",
    "    alldata = {'tweets': [], 'users': []}\n",
    "    \n",
    "    for tweet in page.data:\n",
    "        tweetDct = {fld: tweet[fld] for fld in tweet}\n",
    "        tweetDct['created_at'] = str(tweetDct['created_at']) # convert datatime object\n",
    "        alldata['tweets'].append(tweetDct)\n",
    "        \n",
    "    for user in page.includes.get('users'):\n",
    "        userDct = {key: user[key] for key in user}\n",
    "        userDct['created_at'] = str(userDct['created_at'])\n",
    "        alldata['users'].append(userDct)\n",
    "            \n",
    "    return alldata "
   ]
  },
  {
   "cell_type": "code",
   "execution_count": 36,
   "id": "fae9187b",
   "metadata": {},
   "outputs": [],
   "source": [
    "import json"
   ]
  },
  {
   "cell_type": "code",
   "execution_count": 37,
   "id": "bba336fe",
   "metadata": {},
   "outputs": [],
   "source": [
    "data = prepareData(page1)\n",
    "\n",
    "with open(\"results_0.json\", 'w') as outf:\n",
    "    json.dump([data], outf)"
   ]
  },
  {
   "cell_type": "markdown",
   "id": "2df67c29",
   "metadata": {},
   "source": [
    "Gather tweets from further pages"
   ]
  },
  {
   "cell_type": "code",
   "execution_count": 39,
   "id": "40a29e30",
   "metadata": {},
   "outputs": [],
   "source": [
    "import time\n",
    "import datetime\n",
    "\n",
    "# Helper variables\n",
    "prev_page = page1\n",
    "counter = 1\n",
    "allPages = []\n",
    "\n",
    "while 'next_token' in prev_page.meta:\n",
    "    nextToken = prev_page.meta['next_token']\n",
    "    try: \n",
    "        page = client.search_recent_tweets( \n",
    "                                  query=query_string,\n",
    "                                  tweet_fields=['context_annotations', \n",
    "                                                'created_at',\n",
    "                                                'entities',\n",
    "                                                'public_metrics',\n",
    "                                               ], \n",
    "                                  expansions='author_id',\n",
    "                                  user_fields=['username', 'description', 'name', \n",
    "                                               'location', 'created_at', \n",
    "                                               'public_metrics', 'verified'],\n",
    "                                  next_token=nextToken,\n",
    "                                  max_results=100)\n",
    "        \n",
    "        # Setup things for next iteration\n",
    "        prev_page = page\n",
    "        # Prepare data for storage\n",
    "        data = prepareData(page)\n",
    "        allPages.append(data)\n",
    "        # Save into a file every 1000 tweets\n",
    "        if len(allPages) >= 450:\n",
    "            with open(f\"results_{counter}.json\", 'w') as outf:\n",
    "                json.dump(allPages, outf)\n",
    "            allPages = []\n",
    "            counter += 1\n",
    "        \n",
    "    except:\n",
    "        print(str(datetime.datetime.now()),\n",
    "                  \"I hit the rate limit, going to sleep for 15 minutes.\")\n",
    "        time.sleep(15 * 60) # sleep for 15 minutes\n",
    "\n",
    "# Store the remaining pages, because the rate limit was not hit, so we have unstored data        \n",
    "if len(allPages) > 0:\n",
    "    with open(f\"results_{counter}.json\", 'w') as outf:\n",
    "        json.dump(allPages, outf)"
   ]
  },
  {
   "cell_type": "code",
   "execution_count": 25,
   "id": "8f0dd400",
   "metadata": {},
   "outputs": [],
   "source": [
    "from collections import defaultdict"
   ]
  },
  {
   "cell_type": "code",
   "execution_count": 44,
   "id": "ed1c300d",
   "metadata": {},
   "outputs": [],
   "source": [
    "with open(\"results_0.json\", 'r') as outf:\n",
    "    res0 = json.load(outf)"
   ]
  },
  {
   "cell_type": "code",
   "execution_count": 45,
   "id": "fbede71e",
   "metadata": {},
   "outputs": [],
   "source": [
    "with open(\"results_1.json\", 'r') as outf:\n",
    "    res1 = json.load(outf)"
   ]
  },
  {
   "cell_type": "code",
   "execution_count": 48,
   "id": "b04c6feb",
   "metadata": {},
   "outputs": [
    {
     "data": {
      "text/plain": [
       "379"
      ]
     },
     "execution_count": 48,
     "metadata": {},
     "output_type": "execute_result"
    }
   ],
   "source": [
    "len(res1)"
   ]
  },
  {
   "cell_type": "code",
   "execution_count": 62,
   "id": "e7390cad",
   "metadata": {},
   "outputs": [],
   "source": [
    "res1.extend(res0)"
   ]
  },
  {
   "cell_type": "code",
   "execution_count": 63,
   "id": "55318f45",
   "metadata": {},
   "outputs": [
    {
     "data": {
      "text/plain": [
       "380"
      ]
     },
     "execution_count": 63,
     "metadata": {},
     "output_type": "execute_result"
    }
   ],
   "source": [
    "len(res1)"
   ]
  },
  {
   "cell_type": "markdown",
   "id": "df8d2920",
   "metadata": {},
   "source": [
    "Access dictionary values in each tweet to get expanded urls and save them in a dictionary"
   ]
  },
  {
   "cell_type": "code",
   "execution_count": 72,
   "id": "ca76cda2",
   "metadata": {},
   "outputs": [],
   "source": [
    "expandedUrls = defaultdict(list)\n",
    "\n",
    "for batch in range(len(res1)):\n",
    "    for tweet in res1[batch]['tweets']:\n",
    "        if 'entities' in tweet.keys() and 'urls' in tweet['entities'].keys():\n",
    "            for l in tweet['entities']['urls']:\n",
    "                expandedUrls[tweet['id']].append(l['expanded_url'])"
   ]
  },
  {
   "cell_type": "code",
   "execution_count": 73,
   "id": "890d9de1",
   "metadata": {},
   "outputs": [
    {
     "data": {
      "text/plain": [
       "11720"
      ]
     },
     "execution_count": 73,
     "metadata": {},
     "output_type": "execute_result"
    }
   ],
   "source": [
    "len(expandedUrls)"
   ]
  },
  {
   "cell_type": "code",
   "execution_count": 74,
   "id": "6eb5200a",
   "metadata": {},
   "outputs": [],
   "source": [
    "out_file = open(\"expandedUrls-modified.json\", \"w\")\n",
    "json.dump(expandedUrls, out_file, indent = 6)\n",
    "out_file.close()"
   ]
  },
  {
   "cell_type": "markdown",
   "id": "1f1ef877",
   "metadata": {},
   "source": [
    "A function to get the `redirectedlinks` dictionary from a JSON file"
   ]
  },
  {
   "cell_type": "code",
   "execution_count": 6,
   "id": "c9ab05d9",
   "metadata": {},
   "outputs": [],
   "source": [
    "def getRedirectedLinksJson():\n",
    "    \"\"\"\n",
    "    Loads the json file and\n",
    "    returns its content as a variable\n",
    "    \"\"\"\n",
    "    with open('expandedUrls-modified.json', 'r') as outputF:\n",
    "        result = json.load(outputF)\n",
    "    return result"
   ]
  },
  {
   "cell_type": "code",
   "execution_count": 7,
   "id": "51e7871c",
   "metadata": {},
   "outputs": [],
   "source": [
    "expandedUrls = getRedirectedLinksJson()"
   ]
  },
  {
   "cell_type": "markdown",
   "id": "3f705139",
   "metadata": {},
   "source": [
    "### Task 2: Creating a Data Frame\n",
    "\n",
    "I created a data frame from the `expandedUrls` dictionary by looping through each key in the dictionary and creating a data frame for each, and then concating all dataframes together."
   ]
  },
  {
   "cell_type": "code",
   "execution_count": 75,
   "id": "6835d9ec",
   "metadata": {},
   "outputs": [],
   "source": [
    "import pandas as pd"
   ]
  },
  {
   "cell_type": "code",
   "execution_count": 76,
   "id": "64e01688",
   "metadata": {},
   "outputs": [
    {
     "data": {
      "text/html": [
       "<div>\n",
       "<style scoped>\n",
       "    .dataframe tbody tr th:only-of-type {\n",
       "        vertical-align: middle;\n",
       "    }\n",
       "\n",
       "    .dataframe tbody tr th {\n",
       "        vertical-align: top;\n",
       "    }\n",
       "\n",
       "    .dataframe thead th {\n",
       "        text-align: right;\n",
       "    }\n",
       "</style>\n",
       "<table border=\"1\" class=\"dataframe\">\n",
       "  <thead>\n",
       "    <tr style=\"text-align: right;\">\n",
       "      <th></th>\n",
       "      <th>tweetId</th>\n",
       "      <th>url</th>\n",
       "    </tr>\n",
       "  </thead>\n",
       "  <tbody>\n",
       "    <tr>\n",
       "      <th>0</th>\n",
       "      <td>1477581724481736708</td>\n",
       "      <td>http://amp.gs/jtwhq</td>\n",
       "    </tr>\n",
       "    <tr>\n",
       "      <th>1</th>\n",
       "      <td>1477581700070739968</td>\n",
       "      <td>https://racurs.ua/n165220-veroyatnost-lokdauna...</td>\n",
       "    </tr>\n",
       "    <tr>\n",
       "      <th>2</th>\n",
       "      <td>1477581519552143360</td>\n",
       "      <td>https://rus.azattyk.org/a/31635247.html</td>\n",
       "    </tr>\n",
       "    <tr>\n",
       "      <th>3</th>\n",
       "      <td>1477581458965475333</td>\n",
       "      <td>https://kaz.tengrinews.kz/events/shko-da-jol-a...</td>\n",
       "    </tr>\n",
       "    <tr>\n",
       "      <th>4</th>\n",
       "      <td>1477581279176577030</td>\n",
       "      <td>https://twitter.com/Also__O/status/14775812791...</td>\n",
       "    </tr>\n",
       "    <tr>\n",
       "      <th>...</th>\n",
       "      <td>...</td>\n",
       "      <td>...</td>\n",
       "    </tr>\n",
       "    <tr>\n",
       "      <th>15366</th>\n",
       "      <td>1477582771832954880</td>\n",
       "      <td>https://twitter.com/tominby/status/14775827718...</td>\n",
       "    </tr>\n",
       "    <tr>\n",
       "      <th>15367</th>\n",
       "      <td>1477582698541633536</td>\n",
       "      <td>https://ytro.news/news/coronavirus/2022/01/02/...</td>\n",
       "    </tr>\n",
       "    <tr>\n",
       "      <th>15368</th>\n",
       "      <td>1477582434296283139</td>\n",
       "      <td>https://twitter.com/galina12862063/status/1477...</td>\n",
       "    </tr>\n",
       "    <tr>\n",
       "      <th>15369</th>\n",
       "      <td>1477582434296283139</td>\n",
       "      <td>https://twitter.com/galina12862063/status/1477...</td>\n",
       "    </tr>\n",
       "    <tr>\n",
       "      <th>15370</th>\n",
       "      <td>1477582242297917446</td>\n",
       "      <td>https://twitter.com/SofaTransport/status/14775...</td>\n",
       "    </tr>\n",
       "  </tbody>\n",
       "</table>\n",
       "<p>15371 rows × 2 columns</p>\n",
       "</div>"
      ],
      "text/plain": [
       "                   tweetId                                                url\n",
       "0      1477581724481736708                                http://amp.gs/jtwhq\n",
       "1      1477581700070739968  https://racurs.ua/n165220-veroyatnost-lokdauna...\n",
       "2      1477581519552143360            https://rus.azattyk.org/a/31635247.html\n",
       "3      1477581458965475333  https://kaz.tengrinews.kz/events/shko-da-jol-a...\n",
       "4      1477581279176577030  https://twitter.com/Also__O/status/14775812791...\n",
       "...                    ...                                                ...\n",
       "15366  1477582771832954880  https://twitter.com/tominby/status/14775827718...\n",
       "15367  1477582698541633536  https://ytro.news/news/coronavirus/2022/01/02/...\n",
       "15368  1477582434296283139  https://twitter.com/galina12862063/status/1477...\n",
       "15369  1477582434296283139  https://twitter.com/galina12862063/status/1477...\n",
       "15370  1477582242297917446  https://twitter.com/SofaTransport/status/14775...\n",
       "\n",
       "[15371 rows x 2 columns]"
      ]
     },
     "execution_count": 76,
     "metadata": {},
     "output_type": "execute_result"
    }
   ],
   "source": [
    "alllinksdf = pd.DataFrame(columns=['tweetId', 'url'])\n",
    "\n",
    "for key in expandedUrls:\n",
    "    inter = pd.DataFrame({'tweetId': [key]*len(expandedUrls[key]), 'url': expandedUrls[key]})\n",
    "    alllinksdf = pd.concat([alllinksdf,inter], ignore_index=True)\n",
    "    \n",
    "alllinksdf"
   ]
  },
  {
   "cell_type": "markdown",
   "id": "4a9a7c7f",
   "metadata": {},
   "source": [
    "Then I added a new column `source` by extracting the domain of the link"
   ]
  },
  {
   "cell_type": "code",
   "execution_count": 78,
   "id": "e1f4c8c7",
   "metadata": {},
   "outputs": [
    {
     "data": {
      "text/html": [
       "<div>\n",
       "<style scoped>\n",
       "    .dataframe tbody tr th:only-of-type {\n",
       "        vertical-align: middle;\n",
       "    }\n",
       "\n",
       "    .dataframe tbody tr th {\n",
       "        vertical-align: top;\n",
       "    }\n",
       "\n",
       "    .dataframe thead th {\n",
       "        text-align: right;\n",
       "    }\n",
       "</style>\n",
       "<table border=\"1\" class=\"dataframe\">\n",
       "  <thead>\n",
       "    <tr style=\"text-align: right;\">\n",
       "      <th></th>\n",
       "      <th>tweetId</th>\n",
       "      <th>url</th>\n",
       "      <th>source</th>\n",
       "    </tr>\n",
       "  </thead>\n",
       "  <tbody>\n",
       "    <tr>\n",
       "      <th>0</th>\n",
       "      <td>1477581724481736708</td>\n",
       "      <td>http://amp.gs/jtwhq</td>\n",
       "      <td>amp.gs</td>\n",
       "    </tr>\n",
       "    <tr>\n",
       "      <th>1</th>\n",
       "      <td>1477581700070739968</td>\n",
       "      <td>https://racurs.ua/n165220-veroyatnost-lokdauna...</td>\n",
       "      <td>racurs.ua</td>\n",
       "    </tr>\n",
       "    <tr>\n",
       "      <th>2</th>\n",
       "      <td>1477581519552143360</td>\n",
       "      <td>https://rus.azattyk.org/a/31635247.html</td>\n",
       "      <td>rus.azattyk.org</td>\n",
       "    </tr>\n",
       "    <tr>\n",
       "      <th>3</th>\n",
       "      <td>1477581458965475333</td>\n",
       "      <td>https://kaz.tengrinews.kz/events/shko-da-jol-a...</td>\n",
       "      <td>kaz.tengrinews.kz</td>\n",
       "    </tr>\n",
       "    <tr>\n",
       "      <th>4</th>\n",
       "      <td>1477581279176577030</td>\n",
       "      <td>https://twitter.com/Also__O/status/14775812791...</td>\n",
       "      <td>twitter.com</td>\n",
       "    </tr>\n",
       "    <tr>\n",
       "      <th>...</th>\n",
       "      <td>...</td>\n",
       "      <td>...</td>\n",
       "      <td>...</td>\n",
       "    </tr>\n",
       "    <tr>\n",
       "      <th>15366</th>\n",
       "      <td>1477582771832954880</td>\n",
       "      <td>https://twitter.com/tominby/status/14775827718...</td>\n",
       "      <td>twitter.com</td>\n",
       "    </tr>\n",
       "    <tr>\n",
       "      <th>15367</th>\n",
       "      <td>1477582698541633536</td>\n",
       "      <td>https://ytro.news/news/coronavirus/2022/01/02/...</td>\n",
       "      <td>ytro.news</td>\n",
       "    </tr>\n",
       "    <tr>\n",
       "      <th>15368</th>\n",
       "      <td>1477582434296283139</td>\n",
       "      <td>https://twitter.com/galina12862063/status/1477...</td>\n",
       "      <td>twitter.com</td>\n",
       "    </tr>\n",
       "    <tr>\n",
       "      <th>15369</th>\n",
       "      <td>1477582434296283139</td>\n",
       "      <td>https://twitter.com/galina12862063/status/1477...</td>\n",
       "      <td>twitter.com</td>\n",
       "    </tr>\n",
       "    <tr>\n",
       "      <th>15370</th>\n",
       "      <td>1477582242297917446</td>\n",
       "      <td>https://twitter.com/SofaTransport/status/14775...</td>\n",
       "      <td>twitter.com</td>\n",
       "    </tr>\n",
       "  </tbody>\n",
       "</table>\n",
       "<p>15371 rows × 3 columns</p>\n",
       "</div>"
      ],
      "text/plain": [
       "                   tweetId                                                url  \\\n",
       "0      1477581724481736708                                http://amp.gs/jtwhq   \n",
       "1      1477581700070739968  https://racurs.ua/n165220-veroyatnost-lokdauna...   \n",
       "2      1477581519552143360            https://rus.azattyk.org/a/31635247.html   \n",
       "3      1477581458965475333  https://kaz.tengrinews.kz/events/shko-da-jol-a...   \n",
       "4      1477581279176577030  https://twitter.com/Also__O/status/14775812791...   \n",
       "...                    ...                                                ...   \n",
       "15366  1477582771832954880  https://twitter.com/tominby/status/14775827718...   \n",
       "15367  1477582698541633536  https://ytro.news/news/coronavirus/2022/01/02/...   \n",
       "15368  1477582434296283139  https://twitter.com/galina12862063/status/1477...   \n",
       "15369  1477582434296283139  https://twitter.com/galina12862063/status/1477...   \n",
       "15370  1477582242297917446  https://twitter.com/SofaTransport/status/14775...   \n",
       "\n",
       "                  source  \n",
       "0                 amp.gs  \n",
       "1              racurs.ua  \n",
       "2        rus.azattyk.org  \n",
       "3      kaz.tengrinews.kz  \n",
       "4            twitter.com  \n",
       "...                  ...  \n",
       "15366        twitter.com  \n",
       "15367          ytro.news  \n",
       "15368        twitter.com  \n",
       "15369        twitter.com  \n",
       "15370        twitter.com  \n",
       "\n",
       "[15371 rows x 3 columns]"
      ]
     },
     "execution_count": 78,
     "metadata": {},
     "output_type": "execute_result"
    }
   ],
   "source": [
    "alllinksdf['source'] = alllinksdf['url'].apply(lambda x: x.split(\"www.\")[-1].split(\"//\")[-1].split('/')[0])\n",
    "alllinksdf"
   ]
  },
  {
   "cell_type": "markdown",
   "id": "f354064d",
   "metadata": {},
   "source": [
    "Filtering unwanted links that are not news sources"
   ]
  },
  {
   "cell_type": "code",
   "execution_count": 112,
   "id": "83893461",
   "metadata": {},
   "outputs": [],
   "source": [
    "only_news = alllinksdf[(alllinksdf['source'] != 'twitter.com') & \n",
    "                       (alllinksdf['source'] != 'youtu.be') &\n",
    "                       (alllinksdf['source'] != 't.me') &\n",
    "                       (alllinksdf['source'] != 'vk.com') &\n",
    "                       (alllinksdf['source'] != 'tinyurl.com') &\n",
    "                       (alllinksdf['source'] != 'instagram.com') &\n",
    "                       (alllinksdf['source'] != 'youtube.com') &\n",
    "                       (alllinksdf['source'] != 'facebook.com') &\n",
    "                       (alllinksdf['source'] != 'alpemforum10.wordpress.com')\n",
    "                      ]"
   ]
  },
  {
   "cell_type": "code",
   "execution_count": 113,
   "id": "e7ebdb36",
   "metadata": {},
   "outputs": [
    {
     "name": "stderr",
     "output_type": "stream",
     "text": [
      "<ipython-input-113-04f2fdb616e0>:1: SettingWithCopyWarning:\n",
      "\n",
      "\n",
      "A value is trying to be set on a copy of a slice from a DataFrame.\n",
      "Try using .loc[row_indexer,col_indexer] = value instead\n",
      "\n",
      "See the caveats in the documentation: https://pandas.pydata.org/pandas-docs/stable/user_guide/indexing.html#returning-a-view-versus-a-copy\n",
      "\n"
     ]
    }
   ],
   "source": [
    "only_news['ending'] = only_news['source'].apply(lambda x: x.split(\".\")[-1])"
   ]
  },
  {
   "cell_type": "markdown",
   "id": "fa9b4733",
   "metadata": {},
   "source": [
    "Filtering urls that end with \"ru\" and other irrelevant endings"
   ]
  },
  {
   "cell_type": "code",
   "execution_count": 121,
   "id": "b24cdab8",
   "metadata": {},
   "outputs": [],
   "source": [
    "only_news = only_news[(only_news.ending != 'ru') &\n",
    "                      (only_news.ending != 'ly') &\n",
    "                      (only_news.ending != 'tt') &\n",
    "                      (only_news.ending != 'gs') &\n",
    "                      (only_news.ending != 'ua') &\n",
    "                      (only_news.ending != 'gd') &\n",
    "                      (only_news.ending != 'by') &\n",
    "                      (only_news.ending != 'website') &\n",
    "                      (only_news.ending != 'it') &\n",
    "                      (only_news.ending != 'rs') &\n",
    "                      (only_news.ending != 'pw') &\n",
    "                      (only_news.ending != 'il') &\n",
    "                      (only_news.ending != 'tr') &\n",
    "                      (only_news.ending != 'tv')\n",
    "                     ]"
   ]
  },
  {
   "cell_type": "code",
   "execution_count": 122,
   "id": "1f12659e",
   "metadata": {},
   "outputs": [
    {
     "data": {
      "text/html": [
       "<div>\n",
       "<style scoped>\n",
       "    .dataframe tbody tr th:only-of-type {\n",
       "        vertical-align: middle;\n",
       "    }\n",
       "\n",
       "    .dataframe tbody tr th {\n",
       "        vertical-align: top;\n",
       "    }\n",
       "\n",
       "    .dataframe thead th {\n",
       "        text-align: right;\n",
       "    }\n",
       "</style>\n",
       "<table border=\"1\" class=\"dataframe\">\n",
       "  <thead>\n",
       "    <tr style=\"text-align: right;\">\n",
       "      <th></th>\n",
       "      <th>tweetId</th>\n",
       "      <th>url</th>\n",
       "      <th>source</th>\n",
       "      <th>ending</th>\n",
       "    </tr>\n",
       "  </thead>\n",
       "  <tbody>\n",
       "    <tr>\n",
       "      <th>2</th>\n",
       "      <td>1477581519552143360</td>\n",
       "      <td>https://rus.azattyk.org/a/31635247.html</td>\n",
       "      <td>rus.azattyk.org</td>\n",
       "      <td>org</td>\n",
       "    </tr>\n",
       "    <tr>\n",
       "      <th>3</th>\n",
       "      <td>1477581458965475333</td>\n",
       "      <td>https://kaz.tengrinews.kz/events/shko-da-jol-a...</td>\n",
       "      <td>kaz.tengrinews.kz</td>\n",
       "      <td>kz</td>\n",
       "    </tr>\n",
       "    <tr>\n",
       "      <th>9</th>\n",
       "      <td>1477580880797474824</td>\n",
       "      <td>https://rus.azattyk.org/a/31636130.html</td>\n",
       "      <td>rus.azattyk.org</td>\n",
       "      <td>org</td>\n",
       "    </tr>\n",
       "    <tr>\n",
       "      <th>12</th>\n",
       "      <td>1477580523232968704</td>\n",
       "      <td>https://mignews.com/news/disasters/u-deputata-...</td>\n",
       "      <td>mignews.com</td>\n",
       "      <td>com</td>\n",
       "    </tr>\n",
       "    <tr>\n",
       "      <th>15</th>\n",
       "      <td>1477580433361567745</td>\n",
       "      <td>https://www.trtrussian.com/mnenie/soyuzniki-ka...</td>\n",
       "      <td>trtrussian.com</td>\n",
       "      <td>com</td>\n",
       "    </tr>\n",
       "    <tr>\n",
       "      <th>...</th>\n",
       "      <td>...</td>\n",
       "      <td>...</td>\n",
       "      <td>...</td>\n",
       "      <td>...</td>\n",
       "    </tr>\n",
       "    <tr>\n",
       "      <th>15310</th>\n",
       "      <td>1475057043161681920</td>\n",
       "      <td>https://politinform.net/stolica/koronavirus-v-...</td>\n",
       "      <td>politinform.net</td>\n",
       "      <td>net</td>\n",
       "    </tr>\n",
       "    <tr>\n",
       "      <th>15317</th>\n",
       "      <td>1475055146514227200</td>\n",
       "      <td>https://voshod.org/videochanel/broadcasts/%d0%...</td>\n",
       "      <td>voshod.org</td>\n",
       "      <td>org</td>\n",
       "    </tr>\n",
       "    <tr>\n",
       "      <th>15320</th>\n",
       "      <td>1475055035243372546</td>\n",
       "      <td>https://www.nur.kz/incident/crime/1948348-hisc...</td>\n",
       "      <td>nur.kz</td>\n",
       "      <td>kz</td>\n",
       "    </tr>\n",
       "    <tr>\n",
       "      <th>15331</th>\n",
       "      <td>1477588763136217088</td>\n",
       "      <td>https://rus.delfi.ee/statja/95544439/za-sutki-...</td>\n",
       "      <td>rus.delfi.ee</td>\n",
       "      <td>ee</td>\n",
       "    </tr>\n",
       "    <tr>\n",
       "      <th>15367</th>\n",
       "      <td>1477582698541633536</td>\n",
       "      <td>https://ytro.news/news/coronavirus/2022/01/02/...</td>\n",
       "      <td>ytro.news</td>\n",
       "      <td>news</td>\n",
       "    </tr>\n",
       "  </tbody>\n",
       "</table>\n",
       "<p>3380 rows × 4 columns</p>\n",
       "</div>"
      ],
      "text/plain": [
       "                   tweetId                                                url  \\\n",
       "2      1477581519552143360            https://rus.azattyk.org/a/31635247.html   \n",
       "3      1477581458965475333  https://kaz.tengrinews.kz/events/shko-da-jol-a...   \n",
       "9      1477580880797474824            https://rus.azattyk.org/a/31636130.html   \n",
       "12     1477580523232968704  https://mignews.com/news/disasters/u-deputata-...   \n",
       "15     1477580433361567745  https://www.trtrussian.com/mnenie/soyuzniki-ka...   \n",
       "...                    ...                                                ...   \n",
       "15310  1475057043161681920  https://politinform.net/stolica/koronavirus-v-...   \n",
       "15317  1475055146514227200  https://voshod.org/videochanel/broadcasts/%d0%...   \n",
       "15320  1475055035243372546  https://www.nur.kz/incident/crime/1948348-hisc...   \n",
       "15331  1477588763136217088  https://rus.delfi.ee/statja/95544439/za-sutki-...   \n",
       "15367  1477582698541633536  https://ytro.news/news/coronavirus/2022/01/02/...   \n",
       "\n",
       "                  source ending  \n",
       "2        rus.azattyk.org    org  \n",
       "3      kaz.tengrinews.kz     kz  \n",
       "9        rus.azattyk.org    org  \n",
       "12           mignews.com    com  \n",
       "15        trtrussian.com    com  \n",
       "...                  ...    ...  \n",
       "15310    politinform.net    net  \n",
       "15317         voshod.org    org  \n",
       "15320             nur.kz     kz  \n",
       "15331       rus.delfi.ee     ee  \n",
       "15367          ytro.news   news  \n",
       "\n",
       "[3380 rows x 4 columns]"
      ]
     },
     "execution_count": 122,
     "metadata": {},
     "output_type": "execute_result"
    }
   ],
   "source": [
    "only_news"
   ]
  },
  {
   "cell_type": "markdown",
   "id": "c7bd1169",
   "metadata": {},
   "source": [
    "### Task 3: Top 30 sources\n",
    "\n",
    "I used the `Counter` to get the frequecy of ocurrence of each source. Then by using the counter dictionary I created a dataframe, sorted it and shown 30 top results."
   ]
  },
  {
   "cell_type": "code",
   "execution_count": 98,
   "id": "1deb60d5",
   "metadata": {},
   "outputs": [],
   "source": [
    "from collections import Counter"
   ]
  },
  {
   "cell_type": "code",
   "execution_count": 123,
   "id": "ceb05bd7",
   "metadata": {},
   "outputs": [
    {
     "data": {
      "text/html": [
       "<div>\n",
       "<style scoped>\n",
       "    .dataframe tbody tr th:only-of-type {\n",
       "        vertical-align: middle;\n",
       "    }\n",
       "\n",
       "    .dataframe tbody tr th {\n",
       "        vertical-align: top;\n",
       "    }\n",
       "\n",
       "    .dataframe thead th {\n",
       "        text-align: right;\n",
       "    }\n",
       "</style>\n",
       "<table border=\"1\" class=\"dataframe\">\n",
       "  <thead>\n",
       "    <tr style=\"text-align: right;\">\n",
       "      <th></th>\n",
       "      <th>news_sources</th>\n",
       "      <th>frequency</th>\n",
       "    </tr>\n",
       "  </thead>\n",
       "  <tbody>\n",
       "    <tr>\n",
       "      <th>0</th>\n",
       "      <td>ktk.kz</td>\n",
       "      <td>188</td>\n",
       "    </tr>\n",
       "    <tr>\n",
       "      <th>1</th>\n",
       "      <td>inbusiness.kz</td>\n",
       "      <td>88</td>\n",
       "    </tr>\n",
       "    <tr>\n",
       "      <th>2</th>\n",
       "      <td>inform.kz</td>\n",
       "      <td>74</td>\n",
       "    </tr>\n",
       "    <tr>\n",
       "      <th>3</th>\n",
       "      <td>bolshoyforum.com</td>\n",
       "      <td>66</td>\n",
       "    </tr>\n",
       "    <tr>\n",
       "      <th>4</th>\n",
       "      <td>defence-line.org</td>\n",
       "      <td>57</td>\n",
       "    </tr>\n",
       "    <tr>\n",
       "      <th>5</th>\n",
       "      <td>tengrinews.kz</td>\n",
       "      <td>55</td>\n",
       "    </tr>\n",
       "    <tr>\n",
       "      <th>6</th>\n",
       "      <td>bbc.in</td>\n",
       "      <td>54</td>\n",
       "    </tr>\n",
       "    <tr>\n",
       "      <th>7</th>\n",
       "      <td>24.kz</td>\n",
       "      <td>52</td>\n",
       "    </tr>\n",
       "    <tr>\n",
       "      <th>8</th>\n",
       "      <td>kaz.tengrinews.kz</td>\n",
       "      <td>45</td>\n",
       "    </tr>\n",
       "    <tr>\n",
       "      <th>9</th>\n",
       "      <td>gordonua.com</td>\n",
       "      <td>42</td>\n",
       "    </tr>\n",
       "    <tr>\n",
       "      <th>10</th>\n",
       "      <td>lbuckshee.com</td>\n",
       "      <td>39</td>\n",
       "    </tr>\n",
       "    <tr>\n",
       "      <th>11</th>\n",
       "      <td>nur.kz</td>\n",
       "      <td>36</td>\n",
       "    </tr>\n",
       "    <tr>\n",
       "      <th>12</th>\n",
       "      <td>sm.news</td>\n",
       "      <td>33</td>\n",
       "    </tr>\n",
       "    <tr>\n",
       "      <th>13</th>\n",
       "      <td>vlast.kz</td>\n",
       "      <td>29</td>\n",
       "    </tr>\n",
       "    <tr>\n",
       "      <th>14</th>\n",
       "      <td>sports.kz</td>\n",
       "      <td>29</td>\n",
       "    </tr>\n",
       "    <tr>\n",
       "      <th>15</th>\n",
       "      <td>atinform.com</td>\n",
       "      <td>28</td>\n",
       "    </tr>\n",
       "    <tr>\n",
       "      <th>16</th>\n",
       "      <td>kaztag.kz</td>\n",
       "      <td>25</td>\n",
       "    </tr>\n",
       "    <tr>\n",
       "      <th>17</th>\n",
       "      <td>smi.today</td>\n",
       "      <td>24</td>\n",
       "    </tr>\n",
       "    <tr>\n",
       "      <th>18</th>\n",
       "      <td>zdravmedinfo.com</td>\n",
       "      <td>24</td>\n",
       "    </tr>\n",
       "    <tr>\n",
       "      <th>19</th>\n",
       "      <td>almaty-akshamy.kz</td>\n",
       "      <td>23</td>\n",
       "    </tr>\n",
       "    <tr>\n",
       "      <th>20</th>\n",
       "      <td>ruainform.com</td>\n",
       "      <td>23</td>\n",
       "    </tr>\n",
       "    <tr>\n",
       "      <th>21</th>\n",
       "      <td>inshaua.com</td>\n",
       "      <td>23</td>\n",
       "    </tr>\n",
       "    <tr>\n",
       "      <th>22</th>\n",
       "      <td>baigenews.kz</td>\n",
       "      <td>23</td>\n",
       "    </tr>\n",
       "    <tr>\n",
       "      <th>23</th>\n",
       "      <td>rusvesna.su</td>\n",
       "      <td>22</td>\n",
       "    </tr>\n",
       "    <tr>\n",
       "      <th>24</th>\n",
       "      <td>postoplan.app</td>\n",
       "      <td>22</td>\n",
       "    </tr>\n",
       "    <tr>\n",
       "      <th>25</th>\n",
       "      <td>golosinfo.com</td>\n",
       "      <td>21</td>\n",
       "    </tr>\n",
       "    <tr>\n",
       "      <th>26</th>\n",
       "      <td>kazakbol.com</td>\n",
       "      <td>20</td>\n",
       "    </tr>\n",
       "    <tr>\n",
       "      <th>27</th>\n",
       "      <td>politnavigator.net</td>\n",
       "      <td>20</td>\n",
       "    </tr>\n",
       "    <tr>\n",
       "      <th>28</th>\n",
       "      <td>ardinform.com</td>\n",
       "      <td>18</td>\n",
       "    </tr>\n",
       "    <tr>\n",
       "      <th>29</th>\n",
       "      <td>bastyon.com</td>\n",
       "      <td>18</td>\n",
       "    </tr>\n",
       "  </tbody>\n",
       "</table>\n",
       "</div>"
      ],
      "text/plain": [
       "          news_sources  frequency\n",
       "0               ktk.kz        188\n",
       "1        inbusiness.kz         88\n",
       "2            inform.kz         74\n",
       "3     bolshoyforum.com         66\n",
       "4     defence-line.org         57\n",
       "5        tengrinews.kz         55\n",
       "6               bbc.in         54\n",
       "7                24.kz         52\n",
       "8    kaz.tengrinews.kz         45\n",
       "9         gordonua.com         42\n",
       "10       lbuckshee.com         39\n",
       "11              nur.kz         36\n",
       "12             sm.news         33\n",
       "13            vlast.kz         29\n",
       "14           sports.kz         29\n",
       "15        atinform.com         28\n",
       "16           kaztag.kz         25\n",
       "17           smi.today         24\n",
       "18    zdravmedinfo.com         24\n",
       "19   almaty-akshamy.kz         23\n",
       "20       ruainform.com         23\n",
       "21         inshaua.com         23\n",
       "22        baigenews.kz         23\n",
       "23         rusvesna.su         22\n",
       "24       postoplan.app         22\n",
       "25       golosinfo.com         21\n",
       "26        kazakbol.com         20\n",
       "27  politnavigator.net         20\n",
       "28       ardinform.com         18\n",
       "29         bastyon.com         18"
      ]
     },
     "execution_count": 123,
     "metadata": {},
     "output_type": "execute_result"
    }
   ],
   "source": [
    "counts = Counter(only_news['source'])\n",
    "top_sources_df = pd.DataFrame({'news_sources': counts.keys(), 'frequency': counts.values()})\n",
    "top_sources_df.sort_values(by='frequency', ascending = False, inplace = True, ignore_index = True)\n",
    "top_sources_df[:30]"
   ]
  },
  {
   "cell_type": "code",
   "execution_count": 81,
   "id": "d934d7a8",
   "metadata": {},
   "outputs": [],
   "source": [
    "import plotly.express as px"
   ]
  },
  {
   "cell_type": "code",
   "execution_count": 124,
   "id": "01063df6",
   "metadata": {},
   "outputs": [
    {
     "data": {
      "application/vnd.plotly.v1+json": {
       "config": {
        "plotlyServerURL": "https://plot.ly"
       },
       "data": [
        {
         "alignmentgroup": "True",
         "hovertemplate": "news_sources=%{x}<br>frequency=%{y}<extra></extra>",
         "legendgroup": "",
         "marker": {
          "color": "#636efa",
          "pattern": {
           "shape": ""
          }
         },
         "name": "",
         "offsetgroup": "",
         "orientation": "v",
         "showlegend": false,
         "textposition": "auto",
         "type": "bar",
         "x": [
          "ktk.kz",
          "inbusiness.kz",
          "inform.kz",
          "bolshoyforum.com",
          "defence-line.org",
          "tengrinews.kz",
          "bbc.in",
          "24.kz",
          "kaz.tengrinews.kz",
          "gordonua.com",
          "lbuckshee.com",
          "nur.kz",
          "sm.news",
          "vlast.kz",
          "sports.kz",
          "atinform.com",
          "kaztag.kz",
          "smi.today",
          "zdravmedinfo.com",
          "almaty-akshamy.kz",
          "ruainform.com",
          "inshaua.com",
          "baigenews.kz",
          "rusvesna.su",
          "postoplan.app",
          "golosinfo.com",
          "kazakbol.com",
          "politnavigator.net",
          "ardinform.com",
          "bastyon.com"
         ],
         "xaxis": "x",
         "y": [
          188,
          88,
          74,
          66,
          57,
          55,
          54,
          52,
          45,
          42,
          39,
          36,
          33,
          29,
          29,
          28,
          25,
          24,
          24,
          23,
          23,
          23,
          23,
          22,
          22,
          21,
          20,
          20,
          18,
          18
         ],
         "yaxis": "y"
        }
       ],
       "layout": {
        "barmode": "relative",
        "legend": {
         "tracegroupgap": 0
        },
        "margin": {
         "t": 60
        },
        "template": {
         "data": {
          "bar": [
           {
            "error_x": {
             "color": "#2a3f5f"
            },
            "error_y": {
             "color": "#2a3f5f"
            },
            "marker": {
             "line": {
              "color": "#E5ECF6",
              "width": 0.5
             },
             "pattern": {
              "fillmode": "overlay",
              "size": 10,
              "solidity": 0.2
             }
            },
            "type": "bar"
           }
          ],
          "barpolar": [
           {
            "marker": {
             "line": {
              "color": "#E5ECF6",
              "width": 0.5
             },
             "pattern": {
              "fillmode": "overlay",
              "size": 10,
              "solidity": 0.2
             }
            },
            "type": "barpolar"
           }
          ],
          "carpet": [
           {
            "aaxis": {
             "endlinecolor": "#2a3f5f",
             "gridcolor": "white",
             "linecolor": "white",
             "minorgridcolor": "white",
             "startlinecolor": "#2a3f5f"
            },
            "baxis": {
             "endlinecolor": "#2a3f5f",
             "gridcolor": "white",
             "linecolor": "white",
             "minorgridcolor": "white",
             "startlinecolor": "#2a3f5f"
            },
            "type": "carpet"
           }
          ],
          "choropleth": [
           {
            "colorbar": {
             "outlinewidth": 0,
             "ticks": ""
            },
            "type": "choropleth"
           }
          ],
          "contour": [
           {
            "colorbar": {
             "outlinewidth": 0,
             "ticks": ""
            },
            "colorscale": [
             [
              0,
              "#0d0887"
             ],
             [
              0.1111111111111111,
              "#46039f"
             ],
             [
              0.2222222222222222,
              "#7201a8"
             ],
             [
              0.3333333333333333,
              "#9c179e"
             ],
             [
              0.4444444444444444,
              "#bd3786"
             ],
             [
              0.5555555555555556,
              "#d8576b"
             ],
             [
              0.6666666666666666,
              "#ed7953"
             ],
             [
              0.7777777777777778,
              "#fb9f3a"
             ],
             [
              0.8888888888888888,
              "#fdca26"
             ],
             [
              1,
              "#f0f921"
             ]
            ],
            "type": "contour"
           }
          ],
          "contourcarpet": [
           {
            "colorbar": {
             "outlinewidth": 0,
             "ticks": ""
            },
            "type": "contourcarpet"
           }
          ],
          "heatmap": [
           {
            "colorbar": {
             "outlinewidth": 0,
             "ticks": ""
            },
            "colorscale": [
             [
              0,
              "#0d0887"
             ],
             [
              0.1111111111111111,
              "#46039f"
             ],
             [
              0.2222222222222222,
              "#7201a8"
             ],
             [
              0.3333333333333333,
              "#9c179e"
             ],
             [
              0.4444444444444444,
              "#bd3786"
             ],
             [
              0.5555555555555556,
              "#d8576b"
             ],
             [
              0.6666666666666666,
              "#ed7953"
             ],
             [
              0.7777777777777778,
              "#fb9f3a"
             ],
             [
              0.8888888888888888,
              "#fdca26"
             ],
             [
              1,
              "#f0f921"
             ]
            ],
            "type": "heatmap"
           }
          ],
          "heatmapgl": [
           {
            "colorbar": {
             "outlinewidth": 0,
             "ticks": ""
            },
            "colorscale": [
             [
              0,
              "#0d0887"
             ],
             [
              0.1111111111111111,
              "#46039f"
             ],
             [
              0.2222222222222222,
              "#7201a8"
             ],
             [
              0.3333333333333333,
              "#9c179e"
             ],
             [
              0.4444444444444444,
              "#bd3786"
             ],
             [
              0.5555555555555556,
              "#d8576b"
             ],
             [
              0.6666666666666666,
              "#ed7953"
             ],
             [
              0.7777777777777778,
              "#fb9f3a"
             ],
             [
              0.8888888888888888,
              "#fdca26"
             ],
             [
              1,
              "#f0f921"
             ]
            ],
            "type": "heatmapgl"
           }
          ],
          "histogram": [
           {
            "marker": {
             "pattern": {
              "fillmode": "overlay",
              "size": 10,
              "solidity": 0.2
             }
            },
            "type": "histogram"
           }
          ],
          "histogram2d": [
           {
            "colorbar": {
             "outlinewidth": 0,
             "ticks": ""
            },
            "colorscale": [
             [
              0,
              "#0d0887"
             ],
             [
              0.1111111111111111,
              "#46039f"
             ],
             [
              0.2222222222222222,
              "#7201a8"
             ],
             [
              0.3333333333333333,
              "#9c179e"
             ],
             [
              0.4444444444444444,
              "#bd3786"
             ],
             [
              0.5555555555555556,
              "#d8576b"
             ],
             [
              0.6666666666666666,
              "#ed7953"
             ],
             [
              0.7777777777777778,
              "#fb9f3a"
             ],
             [
              0.8888888888888888,
              "#fdca26"
             ],
             [
              1,
              "#f0f921"
             ]
            ],
            "type": "histogram2d"
           }
          ],
          "histogram2dcontour": [
           {
            "colorbar": {
             "outlinewidth": 0,
             "ticks": ""
            },
            "colorscale": [
             [
              0,
              "#0d0887"
             ],
             [
              0.1111111111111111,
              "#46039f"
             ],
             [
              0.2222222222222222,
              "#7201a8"
             ],
             [
              0.3333333333333333,
              "#9c179e"
             ],
             [
              0.4444444444444444,
              "#bd3786"
             ],
             [
              0.5555555555555556,
              "#d8576b"
             ],
             [
              0.6666666666666666,
              "#ed7953"
             ],
             [
              0.7777777777777778,
              "#fb9f3a"
             ],
             [
              0.8888888888888888,
              "#fdca26"
             ],
             [
              1,
              "#f0f921"
             ]
            ],
            "type": "histogram2dcontour"
           }
          ],
          "mesh3d": [
           {
            "colorbar": {
             "outlinewidth": 0,
             "ticks": ""
            },
            "type": "mesh3d"
           }
          ],
          "parcoords": [
           {
            "line": {
             "colorbar": {
              "outlinewidth": 0,
              "ticks": ""
             }
            },
            "type": "parcoords"
           }
          ],
          "pie": [
           {
            "automargin": true,
            "type": "pie"
           }
          ],
          "scatter": [
           {
            "marker": {
             "colorbar": {
              "outlinewidth": 0,
              "ticks": ""
             }
            },
            "type": "scatter"
           }
          ],
          "scatter3d": [
           {
            "line": {
             "colorbar": {
              "outlinewidth": 0,
              "ticks": ""
             }
            },
            "marker": {
             "colorbar": {
              "outlinewidth": 0,
              "ticks": ""
             }
            },
            "type": "scatter3d"
           }
          ],
          "scattercarpet": [
           {
            "marker": {
             "colorbar": {
              "outlinewidth": 0,
              "ticks": ""
             }
            },
            "type": "scattercarpet"
           }
          ],
          "scattergeo": [
           {
            "marker": {
             "colorbar": {
              "outlinewidth": 0,
              "ticks": ""
             }
            },
            "type": "scattergeo"
           }
          ],
          "scattergl": [
           {
            "marker": {
             "colorbar": {
              "outlinewidth": 0,
              "ticks": ""
             }
            },
            "type": "scattergl"
           }
          ],
          "scattermapbox": [
           {
            "marker": {
             "colorbar": {
              "outlinewidth": 0,
              "ticks": ""
             }
            },
            "type": "scattermapbox"
           }
          ],
          "scatterpolar": [
           {
            "marker": {
             "colorbar": {
              "outlinewidth": 0,
              "ticks": ""
             }
            },
            "type": "scatterpolar"
           }
          ],
          "scatterpolargl": [
           {
            "marker": {
             "colorbar": {
              "outlinewidth": 0,
              "ticks": ""
             }
            },
            "type": "scatterpolargl"
           }
          ],
          "scatterternary": [
           {
            "marker": {
             "colorbar": {
              "outlinewidth": 0,
              "ticks": ""
             }
            },
            "type": "scatterternary"
           }
          ],
          "surface": [
           {
            "colorbar": {
             "outlinewidth": 0,
             "ticks": ""
            },
            "colorscale": [
             [
              0,
              "#0d0887"
             ],
             [
              0.1111111111111111,
              "#46039f"
             ],
             [
              0.2222222222222222,
              "#7201a8"
             ],
             [
              0.3333333333333333,
              "#9c179e"
             ],
             [
              0.4444444444444444,
              "#bd3786"
             ],
             [
              0.5555555555555556,
              "#d8576b"
             ],
             [
              0.6666666666666666,
              "#ed7953"
             ],
             [
              0.7777777777777778,
              "#fb9f3a"
             ],
             [
              0.8888888888888888,
              "#fdca26"
             ],
             [
              1,
              "#f0f921"
             ]
            ],
            "type": "surface"
           }
          ],
          "table": [
           {
            "cells": {
             "fill": {
              "color": "#EBF0F8"
             },
             "line": {
              "color": "white"
             }
            },
            "header": {
             "fill": {
              "color": "#C8D4E3"
             },
             "line": {
              "color": "white"
             }
            },
            "type": "table"
           }
          ]
         },
         "layout": {
          "annotationdefaults": {
           "arrowcolor": "#2a3f5f",
           "arrowhead": 0,
           "arrowwidth": 1
          },
          "autotypenumbers": "strict",
          "coloraxis": {
           "colorbar": {
            "outlinewidth": 0,
            "ticks": ""
           }
          },
          "colorscale": {
           "diverging": [
            [
             0,
             "#8e0152"
            ],
            [
             0.1,
             "#c51b7d"
            ],
            [
             0.2,
             "#de77ae"
            ],
            [
             0.3,
             "#f1b6da"
            ],
            [
             0.4,
             "#fde0ef"
            ],
            [
             0.5,
             "#f7f7f7"
            ],
            [
             0.6,
             "#e6f5d0"
            ],
            [
             0.7,
             "#b8e186"
            ],
            [
             0.8,
             "#7fbc41"
            ],
            [
             0.9,
             "#4d9221"
            ],
            [
             1,
             "#276419"
            ]
           ],
           "sequential": [
            [
             0,
             "#0d0887"
            ],
            [
             0.1111111111111111,
             "#46039f"
            ],
            [
             0.2222222222222222,
             "#7201a8"
            ],
            [
             0.3333333333333333,
             "#9c179e"
            ],
            [
             0.4444444444444444,
             "#bd3786"
            ],
            [
             0.5555555555555556,
             "#d8576b"
            ],
            [
             0.6666666666666666,
             "#ed7953"
            ],
            [
             0.7777777777777778,
             "#fb9f3a"
            ],
            [
             0.8888888888888888,
             "#fdca26"
            ],
            [
             1,
             "#f0f921"
            ]
           ],
           "sequentialminus": [
            [
             0,
             "#0d0887"
            ],
            [
             0.1111111111111111,
             "#46039f"
            ],
            [
             0.2222222222222222,
             "#7201a8"
            ],
            [
             0.3333333333333333,
             "#9c179e"
            ],
            [
             0.4444444444444444,
             "#bd3786"
            ],
            [
             0.5555555555555556,
             "#d8576b"
            ],
            [
             0.6666666666666666,
             "#ed7953"
            ],
            [
             0.7777777777777778,
             "#fb9f3a"
            ],
            [
             0.8888888888888888,
             "#fdca26"
            ],
            [
             1,
             "#f0f921"
            ]
           ]
          },
          "colorway": [
           "#636efa",
           "#EF553B",
           "#00cc96",
           "#ab63fa",
           "#FFA15A",
           "#19d3f3",
           "#FF6692",
           "#B6E880",
           "#FF97FF",
           "#FECB52"
          ],
          "font": {
           "color": "#2a3f5f"
          },
          "geo": {
           "bgcolor": "white",
           "lakecolor": "white",
           "landcolor": "#E5ECF6",
           "showlakes": true,
           "showland": true,
           "subunitcolor": "white"
          },
          "hoverlabel": {
           "align": "left"
          },
          "hovermode": "closest",
          "mapbox": {
           "style": "light"
          },
          "paper_bgcolor": "white",
          "plot_bgcolor": "#E5ECF6",
          "polar": {
           "angularaxis": {
            "gridcolor": "white",
            "linecolor": "white",
            "ticks": ""
           },
           "bgcolor": "#E5ECF6",
           "radialaxis": {
            "gridcolor": "white",
            "linecolor": "white",
            "ticks": ""
           }
          },
          "scene": {
           "xaxis": {
            "backgroundcolor": "#E5ECF6",
            "gridcolor": "white",
            "gridwidth": 2,
            "linecolor": "white",
            "showbackground": true,
            "ticks": "",
            "zerolinecolor": "white"
           },
           "yaxis": {
            "backgroundcolor": "#E5ECF6",
            "gridcolor": "white",
            "gridwidth": 2,
            "linecolor": "white",
            "showbackground": true,
            "ticks": "",
            "zerolinecolor": "white"
           },
           "zaxis": {
            "backgroundcolor": "#E5ECF6",
            "gridcolor": "white",
            "gridwidth": 2,
            "linecolor": "white",
            "showbackground": true,
            "ticks": "",
            "zerolinecolor": "white"
           }
          },
          "shapedefaults": {
           "line": {
            "color": "#2a3f5f"
           }
          },
          "ternary": {
           "aaxis": {
            "gridcolor": "white",
            "linecolor": "white",
            "ticks": ""
           },
           "baxis": {
            "gridcolor": "white",
            "linecolor": "white",
            "ticks": ""
           },
           "bgcolor": "#E5ECF6",
           "caxis": {
            "gridcolor": "white",
            "linecolor": "white",
            "ticks": ""
           }
          },
          "title": {
           "x": 0.05
          },
          "xaxis": {
           "automargin": true,
           "gridcolor": "white",
           "linecolor": "white",
           "ticks": "",
           "title": {
            "standoff": 15
           },
           "zerolinecolor": "white",
           "zerolinewidth": 2
          },
          "yaxis": {
           "automargin": true,
           "gridcolor": "white",
           "linecolor": "white",
           "ticks": "",
           "title": {
            "standoff": 15
           },
           "zerolinecolor": "white",
           "zerolinewidth": 2
          }
         }
        },
        "xaxis": {
         "anchor": "y",
         "domain": [
          0,
          1
         ],
         "title": {
          "text": "news_sources"
         }
        },
        "yaxis": {
         "anchor": "x",
         "domain": [
          0,
          1
         ],
         "title": {
          "text": "frequency"
         }
        }
       }
      },
      "text/html": [
       "<div>                            <div id=\"71bab7cb-d0c7-45ea-ad12-db4382f1f32e\" class=\"plotly-graph-div\" style=\"height:525px; width:100%;\"></div>            <script type=\"text/javascript\">                require([\"plotly\"], function(Plotly) {                    window.PLOTLYENV=window.PLOTLYENV || {};                                    if (document.getElementById(\"71bab7cb-d0c7-45ea-ad12-db4382f1f32e\")) {                    Plotly.newPlot(                        \"71bab7cb-d0c7-45ea-ad12-db4382f1f32e\",                        [{\"alignmentgroup\":\"True\",\"hovertemplate\":\"news_sources=%{x}<br>frequency=%{y}<extra></extra>\",\"legendgroup\":\"\",\"marker\":{\"color\":\"#636efa\",\"pattern\":{\"shape\":\"\"}},\"name\":\"\",\"offsetgroup\":\"\",\"orientation\":\"v\",\"showlegend\":false,\"textposition\":\"auto\",\"type\":\"bar\",\"x\":[\"ktk.kz\",\"inbusiness.kz\",\"inform.kz\",\"bolshoyforum.com\",\"defence-line.org\",\"tengrinews.kz\",\"bbc.in\",\"24.kz\",\"kaz.tengrinews.kz\",\"gordonua.com\",\"lbuckshee.com\",\"nur.kz\",\"sm.news\",\"vlast.kz\",\"sports.kz\",\"atinform.com\",\"kaztag.kz\",\"smi.today\",\"zdravmedinfo.com\",\"almaty-akshamy.kz\",\"ruainform.com\",\"inshaua.com\",\"baigenews.kz\",\"rusvesna.su\",\"postoplan.app\",\"golosinfo.com\",\"kazakbol.com\",\"politnavigator.net\",\"ardinform.com\",\"bastyon.com\"],\"xaxis\":\"x\",\"y\":[188,88,74,66,57,55,54,52,45,42,39,36,33,29,29,28,25,24,24,23,23,23,23,22,22,21,20,20,18,18],\"yaxis\":\"y\"}],                        {\"barmode\":\"relative\",\"legend\":{\"tracegroupgap\":0},\"margin\":{\"t\":60},\"template\":{\"data\":{\"bar\":[{\"error_x\":{\"color\":\"#2a3f5f\"},\"error_y\":{\"color\":\"#2a3f5f\"},\"marker\":{\"line\":{\"color\":\"#E5ECF6\",\"width\":0.5},\"pattern\":{\"fillmode\":\"overlay\",\"size\":10,\"solidity\":0.2}},\"type\":\"bar\"}],\"barpolar\":[{\"marker\":{\"line\":{\"color\":\"#E5ECF6\",\"width\":0.5},\"pattern\":{\"fillmode\":\"overlay\",\"size\":10,\"solidity\":0.2}},\"type\":\"barpolar\"}],\"carpet\":[{\"aaxis\":{\"endlinecolor\":\"#2a3f5f\",\"gridcolor\":\"white\",\"linecolor\":\"white\",\"minorgridcolor\":\"white\",\"startlinecolor\":\"#2a3f5f\"},\"baxis\":{\"endlinecolor\":\"#2a3f5f\",\"gridcolor\":\"white\",\"linecolor\":\"white\",\"minorgridcolor\":\"white\",\"startlinecolor\":\"#2a3f5f\"},\"type\":\"carpet\"}],\"choropleth\":[{\"colorbar\":{\"outlinewidth\":0,\"ticks\":\"\"},\"type\":\"choropleth\"}],\"contour\":[{\"colorbar\":{\"outlinewidth\":0,\"ticks\":\"\"},\"colorscale\":[[0.0,\"#0d0887\"],[0.1111111111111111,\"#46039f\"],[0.2222222222222222,\"#7201a8\"],[0.3333333333333333,\"#9c179e\"],[0.4444444444444444,\"#bd3786\"],[0.5555555555555556,\"#d8576b\"],[0.6666666666666666,\"#ed7953\"],[0.7777777777777778,\"#fb9f3a\"],[0.8888888888888888,\"#fdca26\"],[1.0,\"#f0f921\"]],\"type\":\"contour\"}],\"contourcarpet\":[{\"colorbar\":{\"outlinewidth\":0,\"ticks\":\"\"},\"type\":\"contourcarpet\"}],\"heatmap\":[{\"colorbar\":{\"outlinewidth\":0,\"ticks\":\"\"},\"colorscale\":[[0.0,\"#0d0887\"],[0.1111111111111111,\"#46039f\"],[0.2222222222222222,\"#7201a8\"],[0.3333333333333333,\"#9c179e\"],[0.4444444444444444,\"#bd3786\"],[0.5555555555555556,\"#d8576b\"],[0.6666666666666666,\"#ed7953\"],[0.7777777777777778,\"#fb9f3a\"],[0.8888888888888888,\"#fdca26\"],[1.0,\"#f0f921\"]],\"type\":\"heatmap\"}],\"heatmapgl\":[{\"colorbar\":{\"outlinewidth\":0,\"ticks\":\"\"},\"colorscale\":[[0.0,\"#0d0887\"],[0.1111111111111111,\"#46039f\"],[0.2222222222222222,\"#7201a8\"],[0.3333333333333333,\"#9c179e\"],[0.4444444444444444,\"#bd3786\"],[0.5555555555555556,\"#d8576b\"],[0.6666666666666666,\"#ed7953\"],[0.7777777777777778,\"#fb9f3a\"],[0.8888888888888888,\"#fdca26\"],[1.0,\"#f0f921\"]],\"type\":\"heatmapgl\"}],\"histogram\":[{\"marker\":{\"pattern\":{\"fillmode\":\"overlay\",\"size\":10,\"solidity\":0.2}},\"type\":\"histogram\"}],\"histogram2d\":[{\"colorbar\":{\"outlinewidth\":0,\"ticks\":\"\"},\"colorscale\":[[0.0,\"#0d0887\"],[0.1111111111111111,\"#46039f\"],[0.2222222222222222,\"#7201a8\"],[0.3333333333333333,\"#9c179e\"],[0.4444444444444444,\"#bd3786\"],[0.5555555555555556,\"#d8576b\"],[0.6666666666666666,\"#ed7953\"],[0.7777777777777778,\"#fb9f3a\"],[0.8888888888888888,\"#fdca26\"],[1.0,\"#f0f921\"]],\"type\":\"histogram2d\"}],\"histogram2dcontour\":[{\"colorbar\":{\"outlinewidth\":0,\"ticks\":\"\"},\"colorscale\":[[0.0,\"#0d0887\"],[0.1111111111111111,\"#46039f\"],[0.2222222222222222,\"#7201a8\"],[0.3333333333333333,\"#9c179e\"],[0.4444444444444444,\"#bd3786\"],[0.5555555555555556,\"#d8576b\"],[0.6666666666666666,\"#ed7953\"],[0.7777777777777778,\"#fb9f3a\"],[0.8888888888888888,\"#fdca26\"],[1.0,\"#f0f921\"]],\"type\":\"histogram2dcontour\"}],\"mesh3d\":[{\"colorbar\":{\"outlinewidth\":0,\"ticks\":\"\"},\"type\":\"mesh3d\"}],\"parcoords\":[{\"line\":{\"colorbar\":{\"outlinewidth\":0,\"ticks\":\"\"}},\"type\":\"parcoords\"}],\"pie\":[{\"automargin\":true,\"type\":\"pie\"}],\"scatter\":[{\"marker\":{\"colorbar\":{\"outlinewidth\":0,\"ticks\":\"\"}},\"type\":\"scatter\"}],\"scatter3d\":[{\"line\":{\"colorbar\":{\"outlinewidth\":0,\"ticks\":\"\"}},\"marker\":{\"colorbar\":{\"outlinewidth\":0,\"ticks\":\"\"}},\"type\":\"scatter3d\"}],\"scattercarpet\":[{\"marker\":{\"colorbar\":{\"outlinewidth\":0,\"ticks\":\"\"}},\"type\":\"scattercarpet\"}],\"scattergeo\":[{\"marker\":{\"colorbar\":{\"outlinewidth\":0,\"ticks\":\"\"}},\"type\":\"scattergeo\"}],\"scattergl\":[{\"marker\":{\"colorbar\":{\"outlinewidth\":0,\"ticks\":\"\"}},\"type\":\"scattergl\"}],\"scattermapbox\":[{\"marker\":{\"colorbar\":{\"outlinewidth\":0,\"ticks\":\"\"}},\"type\":\"scattermapbox\"}],\"scatterpolar\":[{\"marker\":{\"colorbar\":{\"outlinewidth\":0,\"ticks\":\"\"}},\"type\":\"scatterpolar\"}],\"scatterpolargl\":[{\"marker\":{\"colorbar\":{\"outlinewidth\":0,\"ticks\":\"\"}},\"type\":\"scatterpolargl\"}],\"scatterternary\":[{\"marker\":{\"colorbar\":{\"outlinewidth\":0,\"ticks\":\"\"}},\"type\":\"scatterternary\"}],\"surface\":[{\"colorbar\":{\"outlinewidth\":0,\"ticks\":\"\"},\"colorscale\":[[0.0,\"#0d0887\"],[0.1111111111111111,\"#46039f\"],[0.2222222222222222,\"#7201a8\"],[0.3333333333333333,\"#9c179e\"],[0.4444444444444444,\"#bd3786\"],[0.5555555555555556,\"#d8576b\"],[0.6666666666666666,\"#ed7953\"],[0.7777777777777778,\"#fb9f3a\"],[0.8888888888888888,\"#fdca26\"],[1.0,\"#f0f921\"]],\"type\":\"surface\"}],\"table\":[{\"cells\":{\"fill\":{\"color\":\"#EBF0F8\"},\"line\":{\"color\":\"white\"}},\"header\":{\"fill\":{\"color\":\"#C8D4E3\"},\"line\":{\"color\":\"white\"}},\"type\":\"table\"}]},\"layout\":{\"annotationdefaults\":{\"arrowcolor\":\"#2a3f5f\",\"arrowhead\":0,\"arrowwidth\":1},\"autotypenumbers\":\"strict\",\"coloraxis\":{\"colorbar\":{\"outlinewidth\":0,\"ticks\":\"\"}},\"colorscale\":{\"diverging\":[[0,\"#8e0152\"],[0.1,\"#c51b7d\"],[0.2,\"#de77ae\"],[0.3,\"#f1b6da\"],[0.4,\"#fde0ef\"],[0.5,\"#f7f7f7\"],[0.6,\"#e6f5d0\"],[0.7,\"#b8e186\"],[0.8,\"#7fbc41\"],[0.9,\"#4d9221\"],[1,\"#276419\"]],\"sequential\":[[0.0,\"#0d0887\"],[0.1111111111111111,\"#46039f\"],[0.2222222222222222,\"#7201a8\"],[0.3333333333333333,\"#9c179e\"],[0.4444444444444444,\"#bd3786\"],[0.5555555555555556,\"#d8576b\"],[0.6666666666666666,\"#ed7953\"],[0.7777777777777778,\"#fb9f3a\"],[0.8888888888888888,\"#fdca26\"],[1.0,\"#f0f921\"]],\"sequentialminus\":[[0.0,\"#0d0887\"],[0.1111111111111111,\"#46039f\"],[0.2222222222222222,\"#7201a8\"],[0.3333333333333333,\"#9c179e\"],[0.4444444444444444,\"#bd3786\"],[0.5555555555555556,\"#d8576b\"],[0.6666666666666666,\"#ed7953\"],[0.7777777777777778,\"#fb9f3a\"],[0.8888888888888888,\"#fdca26\"],[1.0,\"#f0f921\"]]},\"colorway\":[\"#636efa\",\"#EF553B\",\"#00cc96\",\"#ab63fa\",\"#FFA15A\",\"#19d3f3\",\"#FF6692\",\"#B6E880\",\"#FF97FF\",\"#FECB52\"],\"font\":{\"color\":\"#2a3f5f\"},\"geo\":{\"bgcolor\":\"white\",\"lakecolor\":\"white\",\"landcolor\":\"#E5ECF6\",\"showlakes\":true,\"showland\":true,\"subunitcolor\":\"white\"},\"hoverlabel\":{\"align\":\"left\"},\"hovermode\":\"closest\",\"mapbox\":{\"style\":\"light\"},\"paper_bgcolor\":\"white\",\"plot_bgcolor\":\"#E5ECF6\",\"polar\":{\"angularaxis\":{\"gridcolor\":\"white\",\"linecolor\":\"white\",\"ticks\":\"\"},\"bgcolor\":\"#E5ECF6\",\"radialaxis\":{\"gridcolor\":\"white\",\"linecolor\":\"white\",\"ticks\":\"\"}},\"scene\":{\"xaxis\":{\"backgroundcolor\":\"#E5ECF6\",\"gridcolor\":\"white\",\"gridwidth\":2,\"linecolor\":\"white\",\"showbackground\":true,\"ticks\":\"\",\"zerolinecolor\":\"white\"},\"yaxis\":{\"backgroundcolor\":\"#E5ECF6\",\"gridcolor\":\"white\",\"gridwidth\":2,\"linecolor\":\"white\",\"showbackground\":true,\"ticks\":\"\",\"zerolinecolor\":\"white\"},\"zaxis\":{\"backgroundcolor\":\"#E5ECF6\",\"gridcolor\":\"white\",\"gridwidth\":2,\"linecolor\":\"white\",\"showbackground\":true,\"ticks\":\"\",\"zerolinecolor\":\"white\"}},\"shapedefaults\":{\"line\":{\"color\":\"#2a3f5f\"}},\"ternary\":{\"aaxis\":{\"gridcolor\":\"white\",\"linecolor\":\"white\",\"ticks\":\"\"},\"baxis\":{\"gridcolor\":\"white\",\"linecolor\":\"white\",\"ticks\":\"\"},\"bgcolor\":\"#E5ECF6\",\"caxis\":{\"gridcolor\":\"white\",\"linecolor\":\"white\",\"ticks\":\"\"}},\"title\":{\"x\":0.05},\"xaxis\":{\"automargin\":true,\"gridcolor\":\"white\",\"linecolor\":\"white\",\"ticks\":\"\",\"title\":{\"standoff\":15},\"zerolinecolor\":\"white\",\"zerolinewidth\":2},\"yaxis\":{\"automargin\":true,\"gridcolor\":\"white\",\"linecolor\":\"white\",\"ticks\":\"\",\"title\":{\"standoff\":15},\"zerolinecolor\":\"white\",\"zerolinewidth\":2}}},\"xaxis\":{\"anchor\":\"y\",\"domain\":[0.0,1.0],\"title\":{\"text\":\"news_sources\"}},\"yaxis\":{\"anchor\":\"x\",\"domain\":[0.0,1.0],\"title\":{\"text\":\"frequency\"}}},                        {\"responsive\": true}                    ).then(function(){\n",
       "                            \n",
       "var gd = document.getElementById('71bab7cb-d0c7-45ea-ad12-db4382f1f32e');\n",
       "var x = new MutationObserver(function (mutations, observer) {{\n",
       "        var display = window.getComputedStyle(gd).display;\n",
       "        if (!display || display === 'none') {{\n",
       "            console.log([gd, 'removed!']);\n",
       "            Plotly.purge(gd);\n",
       "            observer.disconnect();\n",
       "        }}\n",
       "}});\n",
       "\n",
       "// Listen for the removal of the full notebook cells\n",
       "var notebookContainer = gd.closest('#notebook-container');\n",
       "if (notebookContainer) {{\n",
       "    x.observe(notebookContainer, {childList: true});\n",
       "}}\n",
       "\n",
       "// Listen for the clearing of the current output cell\n",
       "var outputEl = gd.closest('.output');\n",
       "if (outputEl) {{\n",
       "    x.observe(outputEl, {childList: true});\n",
       "}}\n",
       "\n",
       "                        })                };                });            </script>        </div>"
      ]
     },
     "metadata": {},
     "output_type": "display_data"
    }
   ],
   "source": [
    "fig = px.bar(top_sources_df[:30], x='news_sources', y='frequency')\n",
    "fig.show()"
   ]
  },
  {
   "cell_type": "markdown",
   "id": "d924733d",
   "metadata": {},
   "source": [
    "Using markdown to add the screenshot of the bar plot, because it doesn'y shoe up in HTML file"
   ]
  },
  {
   "cell_type": "markdown",
   "id": "fcc57673",
   "metadata": {},
   "source": [
    "![top 30 news sources bar chart](bar-plot.png \"image Title\")"
   ]
  },
  {
   "cell_type": "markdown",
   "id": "bdfd159b",
   "metadata": {},
   "source": [
    "### Conclusion for Part 1 of the Final Project:\n",
    "\n",
    "Most of the links were retweets of other tweets, so that was not very helpful for my investigation of news sources.\n",
    "\n",
    "However, there are still alot of interesting sources to look at. \n",
    "\n",
    "For instance, `egov.press` is Kazakhstan's governmental source for getting information on documentations, pension, social security and etc.\n",
    "\n",
    "`tengrinews.kz`, `inbusiness.kz`, `kaz.orda.kz`, `egemen.kz`, `akorda.kz`, `inform.kz`, `ktk.kz`, `baigenews.kz` are big news portals that mostly work of governmental orders.\n",
    "\n",
    "`azattyq.kz`, `vlast.kz` are knows and popular independent sources of information.\n",
    "\n",
    "Also, people from Kazakstan use `Youtube`, `Instagram` and `TikTok` to look out for the news."
   ]
  },
  {
   "cell_type": "code",
   "execution_count": null,
   "id": "25846092",
   "metadata": {},
   "outputs": [],
   "source": []
  }
 ],
 "metadata": {
  "kernelspec": {
   "display_name": "Python 3",
   "language": "python",
   "name": "python3"
  },
  "language_info": {
   "codemirror_mode": {
    "name": "ipython",
    "version": 3
   },
   "file_extension": ".py",
   "mimetype": "text/x-python",
   "name": "python",
   "nbconvert_exporter": "python",
   "pygments_lexer": "ipython3",
   "version": "3.8.8"
  }
 },
 "nbformat": 4,
 "nbformat_minor": 5
}
